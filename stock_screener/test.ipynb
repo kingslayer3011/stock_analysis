{
 "cells": [
  {
   "cell_type": "markdown",
   "id": "81857717",
   "metadata": {},
   "source": [
    "# Stock Screener Financial Metrics Test Notebook\n",
    "\n",
    "This notebook demonstrates how to use the `data_fetcher` module to calculate key financial metrics for stock screening. Metrics include revenue growth, gross margin, P/E, ROE, ROAC, reinvestment rate, and payout ratio (both last year and historical average)."
   ]
  },
  {
   "cell_type": "markdown",
   "id": "01c41ce6",
   "metadata": {},
   "source": [
    "## 1. Import Required Libraries and data_fetcher\n",
    "\n",
    "Import pandas, numpy, and the data_fetcher module. Set up logging if needed."
   ]
  },
  {
   "cell_type": "code",
   "execution_count": 1,
   "id": "48577bfd",
   "metadata": {},
   "outputs": [],
   "source": [
    "import pandas as pd\n",
    "import numpy as np\n",
    "import logging\n",
    "\n",
    "# Import the data_fetcher module\n",
    "import sys\n",
    "sys.path.append(r\"c:\\Users\\adamw\\Desktop\\stock_analysis\\stock_screener\")\n",
    "from data_fetcher import get_historical_data\n",
    "\n",
    "# Optional: Set up logging\n",
    "logging.basicConfig(level=logging.INFO)\n",
    "logger = logging.getLogger(\"metrics_test\")"
   ]
  },
  {
   "cell_type": "markdown",
   "id": "cd5c3a36",
   "metadata": {},
   "source": [
    "## 2. Fetch Financial Data for a Stock\n",
    "\n",
    "Use `get_historical_data` from data_fetcher to retrieve financial data and valuation info for a given ticker."
   ]
  },
  {
   "cell_type": "code",
   "execution_count": 17,
   "id": "43a53595",
   "metadata": {},
   "outputs": [],
   "source": [
    "# Choose a ticker symbol (e.g., Apple)\n",
    "ticker = \"AAPL\"\n",
    "\n",
    "import yfinance as yf\n",
    "\n",
    "\n",
    "ticker = yf.Ticker(ticker)\n",
    "\n"
   ]
  },
  {
   "cell_type": "code",
   "execution_count": 18,
   "id": "de86a48a",
   "metadata": {},
   "outputs": [
    {
     "name": "stdout",
     "output_type": "stream",
     "text": [
      "Trailing P/E Ratio: 33.314644\n",
      "Fast P/E Ratio: None\n"
     ]
    }
   ],
   "source": [
    "# Method 1: From .info (slower but more detailed)\n",
    "pe_ratio = ticker.info.get(\"trailingPE\")\n",
    "print(f\"Trailing P/E Ratio: {pe_ratio}\")\n",
    "\n",
    "# Method 2: From .fast_info (faster, but fewer fields)\n",
    "fast_pe = ticker.fast_info.get(\"pe_ratio\")\n",
    "print(f\"Fast P/E Ratio: {fast_pe}\")"
   ]
  },
  {
   "cell_type": "markdown",
   "id": "40f2dc77",
   "metadata": {},
   "source": [
    "## 3. Calculate Revenue Growth (Last Year & Historical Average)\n",
    "\n",
    "Compute revenue growth for the last year and the historical average using the DataFrame returned by data_fetcher."
   ]
  },
  {
   "cell_type": "code",
   "execution_count": 3,
   "id": "5301d3bd",
   "metadata": {},
   "outputs": [
    {
     "name": "stdout",
     "output_type": "stream",
     "text": [
      "Last Year Revenue Growth: 2.02%\n",
      "Historical Average Revenue Growth (CAGR): 2.25%\n"
     ]
    }
   ],
   "source": [
    "def revenue_growth(df):\n",
    "    df_hist = df[df['ttm'] == 0].sort_index()\n",
    "    rev = df_hist['Revenue'].dropna()\n",
    "    # Last year growth\n",
    "    if len(rev) >= 2:\n",
    "        last_growth = (rev.iloc[-1] - rev.iloc[-2]) / rev.iloc[-2]\n",
    "    else:\n",
    "        last_growth = np.nan\n",
    "    # Historical average CAGR\n",
    "    if len(rev) >= 2:\n",
    "        years = len(rev) - 1\n",
    "        cagr = (rev.iloc[-1] / rev.iloc[0]) ** (1 / years) - 1\n",
    "    else:\n",
    "        cagr = np.nan\n",
    "    return last_growth, cagr\n",
    "\n",
    "last_rev_growth, avg_rev_growth = revenue_growth(df)\n",
    "print(f\"Last Year Revenue Growth: {last_rev_growth:.2%}\")\n",
    "print(f\"Historical Average Revenue Growth (CAGR): {avg_rev_growth:.2%}\")"
   ]
  },
  {
   "cell_type": "markdown",
   "id": "0bcb02f8",
   "metadata": {},
   "source": [
    "## 4. Calculate Gross Margin (Last Year & Historical Average)\n",
    "\n",
    "Calculate gross margin for the last year and historical average using revenue and gross profit (if available)."
   ]
  },
  {
   "cell_type": "code",
   "execution_count": 4,
   "id": "1740dfd0",
   "metadata": {},
   "outputs": [
    {
     "name": "stdout",
     "output_type": "stream",
     "text": [
      "Last Year Gross Margin: nan%\n",
      "Historical Average Gross Margin: nan%\n"
     ]
    }
   ],
   "source": [
    "def gross_margin(df):\n",
    "    df_hist = df[df['ttm'] == 0].sort_index()\n",
    "    # If Gross Profit is available\n",
    "    if 'Gross Profit' in df_hist.columns:\n",
    "        gross = df_hist['Gross Profit'].dropna()\n",
    "        rev = df_hist['Revenue'].dropna()\n",
    "        margin = gross / rev\n",
    "    else:\n",
    "        margin = pd.Series([np.nan] * len(df_hist), index=df_hist.index)\n",
    "    # Last year and average\n",
    "    last_margin = margin.iloc[-1] if len(margin) > 0 else np.nan\n",
    "    avg_margin = margin.mean() if len(margin) > 0 else np.nan\n",
    "    return last_margin, avg_margin\n",
    "\n",
    "last_gross_margin, avg_gross_margin = gross_margin(df)\n",
    "print(f\"Last Year Gross Margin: {last_gross_margin:.2%}\")\n",
    "print(f\"Historical Average Gross Margin: {avg_gross_margin:.2%}\")"
   ]
  },
  {
   "cell_type": "markdown",
   "id": "34326b35",
   "metadata": {},
   "source": [
    "## 5. Calculate Price/Earnings Ratio (P/E) (Last Year & Historical Average)\n",
    "\n",
    "Calculate P/E ratio for the last year and historical average using share price and net income."
   ]
  },
  {
   "cell_type": "code",
   "execution_count": null,
   "id": "b21aa8f6",
   "metadata": {},
   "outputs": [],
   "source": [
    "def pe_ratio(df, valuation_info):\n",
    "    df_hist = df[df['ttm'] == 0].sort_index()\n",
    "    net_income = df_hist['Net Income'].dropna()\n",
    "    shares = valuation_info.get(\"number_shares\", np.nan)\n",
    "    price = valuation_info.get(\"share_price\", np.nan)\n",
    "    # EPS for each year\n",
    "    eps = net_income / shares if pd.notna(shares) and shares != 0 else pd.Series([np.nan]*len(net_income), index=net_income.index)\n",
    "    pe = price / eps if pd.notna(price) else pd.Series([np.nan]*len(eps), index=eps.index)\n",
    "    last_pe = pe.iloc[-1] if len(pe) > 0 else np.nan\n",
    "    avg_pe = pe.mean() if len(pe) > 0 else np.nan\n",
    "    return last_pe, avg_pe\n",
    "\n",
    "last_pe, avg_pe = pe_ratio(df, valuation_info)\n",
    "print(f\"Last Year P/E Ratio: {last_pe:.2f}\")\n",
    "print(f\"Historical Average P/E Ratio: {avg_pe:.2f}\")"
   ]
  },
  {
   "cell_type": "markdown",
   "id": "7abbce21",
   "metadata": {},
   "source": [
    "## 6. Calculate Return on Equity (ROE) (Last Year & Historical Average)\n",
    "\n",
    "Calculate ROE for the last year and historical average using net income and equity."
   ]
  },
  {
   "cell_type": "code",
   "execution_count": null,
   "id": "8d846a43",
   "metadata": {},
   "outputs": [],
   "source": [
    "def roe(df):\n",
    "    df_hist = df[df['ttm'] == 0].sort_index()\n",
    "    net_income = df_hist['Net Income'].dropna()\n",
    "    # Equity = Total Assets - Total Debt\n",
    "    if 'Total Assets' in df_hist.columns and 'Total Debt' in df_hist.columns:\n",
    "        equity = df_hist['Total Assets'] - df_hist['Total Debt']\n",
    "        roe_series = net_income / equity\n",
    "    else:\n",
    "        roe_series = pd.Series([np.nan]*len(net_income), index=net_income.index)\n",
    "    last_roe = roe_series.iloc[-1] if len(roe_series) > 0 else np.nan\n",
    "    avg_roe = roe_series.mean() if len(roe_series) > 0 else np.nan\n",
    "    return last_roe, avg_roe\n",
    "\n",
    "last_roe, avg_roe = roe(df)\n",
    "print(f\"Last Year ROE: {last_roe:.2%}\")\n",
    "print(f\"Historical Average ROE: {avg_roe:.2%}\")"
   ]
  },
  {
   "cell_type": "markdown",
   "id": "81561fe8",
   "metadata": {},
   "source": [
    "## 7. Calculate Return on Assets/Capital (ROAC) (Last Year & Historical Average)\n",
    "\n",
    "Calculate ROAC for the last year and historical average using EBIT and capital invested."
   ]
  },
  {
   "cell_type": "code",
   "execution_count": null,
   "id": "ada30eab",
   "metadata": {},
   "outputs": [],
   "source": [
    "def roac(df):\n",
    "    df_hist = df[df['ttm'] == 0].sort_index()\n",
    "    ebit = df_hist['EBIT'].dropna()\n",
    "    capital_invested = df_hist['capital_invested'].dropna() if 'capital_invested' in df_hist.columns else pd.Series([np.nan]*len(ebit), index=ebit.index)\n",
    "    roac_series = ebit / capital_invested\n",
    "    last_roac = roac_series.iloc[-1] if len(roac_series) > 0 else np.nan\n",
    "    avg_roac = roac_series.mean() if len(roac_series) > 0 else np.nan\n",
    "    return last_roac, avg_roac\n",
    "\n",
    "last_roac, avg_roac = roac(df)\n",
    "print(f\"Last Year ROAC: {last_roac:.2%}\")\n",
    "print(f\"Historical Average ROAC: {avg_roac:.2%}\")"
   ]
  },
  {
   "cell_type": "markdown",
   "id": "3b017229",
   "metadata": {},
   "source": [
    "## 8. Calculate Reinvestment Rate (Last Year & Historical Average)\n",
    "\n",
    "Calculate reinvestment rate for the last year and historical average using CapEx, depreciation, delta WC, and NOPAT."
   ]
  },
  {
   "cell_type": "code",
   "execution_count": null,
   "id": "4655ebe1",
   "metadata": {},
   "outputs": [],
   "source": [
    "def reinvestment_rate(df):\n",
    "    df_hist = df[df['ttm'] == 0].sort_index()\n",
    "    if 'ReinvestmentRate' in df_hist.columns:\n",
    "        reinvest = df_hist['ReinvestmentRate'].dropna()\n",
    "        last_reinvest = reinvest.iloc[-1] if len(reinvest) > 0 else np.nan\n",
    "        avg_reinvest = reinvest.mean() if len(reinvest) > 0 else np.nan\n",
    "    else:\n",
    "        last_reinvest = np.nan\n",
    "        avg_reinvest = np.nan\n",
    "    return last_reinvest, avg_reinvest\n",
    "\n",
    "last_reinvest, avg_reinvest = reinvestment_rate(df)\n",
    "print(f\"Last Year Reinvestment Rate: {last_reinvest:.2%}\")\n",
    "print(f\"Historical Average Reinvestment Rate: {avg_reinvest:.2%}\")"
   ]
  },
  {
   "cell_type": "markdown",
   "id": "d6a11190",
   "metadata": {},
   "source": [
    "## 9. Calculate Payout Ratio (Last Year & Historical Average)\n",
    "\n",
    "Calculate payout ratio for the last year and historical average using dividends and net income."
   ]
  },
  {
   "cell_type": "code",
   "execution_count": null,
   "id": "ee46a7ce",
   "metadata": {},
   "outputs": [],
   "source": [
    "def payout_ratio(df):\n",
    "    df_hist = df[df['ttm'] == 0].sort_index()\n",
    "    # If Dividends Paid is available\n",
    "    if 'Dividends Paid' in df_hist.columns:\n",
    "        dividends = df_hist['Dividends Paid'].dropna()\n",
    "        net_income = df_hist['Net Income'].dropna()\n",
    "        payout = dividends / net_income\n",
    "    else:\n",
    "        payout = pd.Series([np.nan]*len(df_hist), index=df_hist.index)\n",
    "    last_payout = payout.iloc[-1] if len(payout) > 0 else np.nan\n",
    "    avg_payout = payout.mean() if len(payout) > 0 else np.nan\n",
    "    return last_payout, avg_payout\n",
    "\n",
    "last_payout, avg_payout = payout_ratio(df)\n",
    "print(f\"Last Year Payout Ratio: {last_payout:.2%}\")\n",
    "print(f\"Historical Average Payout Ratio: {avg_payout:.2%}\")"
   ]
  }
 ],
 "metadata": {
  "kernelspec": {
   "display_name": "Python 3",
   "language": "python",
   "name": "python3"
  },
  "language_info": {
   "codemirror_mode": {
    "name": "ipython",
    "version": 3
   },
   "file_extension": ".py",
   "mimetype": "text/x-python",
   "name": "python",
   "nbconvert_exporter": "python",
   "pygments_lexer": "ipython3",
   "version": "3.13.5"
  }
 },
 "nbformat": 4,
 "nbformat_minor": 5
}
