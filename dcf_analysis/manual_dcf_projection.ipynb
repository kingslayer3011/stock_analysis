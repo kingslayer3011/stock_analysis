{
 "cells": [
  {
   "cell_type": "markdown",
   "id": "98ce2c39",
   "metadata": {},
   "source": [
    "# Manual DCF Projection for NOVO-B.CO\n",
    "This notebook replicates the calculations of the program series for NOVO-B.CO, allowing manual input of growth rate projections."
   ]
  },
  {
   "cell_type": "code",
   "execution_count": 30,
   "id": "1febe9df",
   "metadata": {},
   "outputs": [],
   "source": [
    "# Import Required Libraries\n",
    "import pandas as pd\n",
    "import numpy as np\n",
    "import yfinance as yf"
   ]
  },
  {
   "cell_type": "code",
   "execution_count": 31,
   "id": "b0f46c9e",
   "metadata": {},
   "outputs": [
    {
     "data": {
      "text/plain": [
       "{'Growth Rate': 0.05,\n",
       " 'Projection Years': 5,\n",
       " 'Discount Rate': 0.07297414213597408}"
      ]
     },
     "metadata": {},
     "output_type": "display_data"
    }
   ],
   "source": [
    "# Manually Input Growth Rate Projection\n",
    "from IPython.display import display\n",
    "\n",
    "growth_rate = 0.05\n",
    "projection_years = 5\n",
    "discount_rate = 0.07297414213597408\n",
    "\n",
    "display({'Growth Rate': growth_rate, 'Projection Years': projection_years, 'Discount Rate': discount_rate})"
   ]
  },
  {
   "cell_type": "code",
   "execution_count": 32,
   "id": "840b8f57",
   "metadata": {},
   "outputs": [],
   "source": [
    "# Fetch Financial Statements for NOVO-B.CO\n",
    "ticker = 'NOVO-B.CO'\n",
    "t = yf.Ticker(ticker)\n",
    "\n",
    "# Get TTM and latest annual data\n",
    "income = t.financials\n",
    "cashflow = t.cashflow\n",
    "balance = t.balance_sheet\n",
    "\n",
    "ttm_income = t.ttm_financials\n",
    "ttm_cashflow = t.ttm_cashflow\n",
    "quarterly_balance = t.quarterly_balancesheet\n",
    "\n"
   ]
  },
  {
   "cell_type": "code",
   "execution_count": 33,
   "id": "d57e48b1",
   "metadata": {},
   "outputs": [
    {
     "name": "stdout",
     "output_type": "stream",
     "text": [
      "FCFF (TTM): 201,012,916,361\n"
     ]
    }
   ],
   "source": [
    "# Calculate Free Cash Flow to Firm (FCFF)\n",
    "def calculate_fcff(row):\n",
    "    ebit = row.get('EBITDA', np.nan)\n",
    "    depreciation = row.get('Depreciation & Amortization', np.nan)\n",
    "    capex = row.get('Capital Expenditure', np.nan)\n",
    "    delta_wc = row.get('Change In Working Capital', np.nan)\n",
    "    tax_provision = row.get('Tax Provision', np.nan)\n",
    "    pretax_income = row.get('Pretax Income', np.nan)\n",
    "    # Estimate effective tax rate\n",
    "    if pd.notna(tax_provision) and pd.notna(pretax_income) and pretax_income != 0:\n",
    "        tax_rate = tax_provision / pretax_income\n",
    "        if not (0 <= tax_rate <= 1):\n",
    "            tax_rate = 0.25\n",
    "    else:\n",
    "        tax_rate = 0.25\n",
    "    if pd.isna(ebit):\n",
    "        ebit = row.get('Net Income', np.nan)  # fallback\n",
    "    if pd.isna(depreciation):\n",
    "        depreciation = 0\n",
    "    if pd.isna(capex):\n",
    "        capex = 0\n",
    "    if pd.isna(delta_wc):\n",
    "        delta_wc = 0\n",
    "    fcff = ebit * (1 - tax_rate) + depreciation - capex - delta_wc\n",
    "    return fcff\n",
    "\n",
    "# Try to get TTM values for calculation\n",
    "fcff_ttm = None\n",
    "if ttm_income is not None and ttm_cashflow is not None:\n",
    "    ttm_row = {\n",
    "        'EBITDA': ttm_income.loc['EBITDA'].iloc[0] if 'EBITDA' in ttm_income.index else np.nan,\n",
    "        'Depreciation & Amortization': ttm_cashflow.loc['Depreciation And Amortization'].iloc[0] if 'Depreciation And Amortization' in ttm_cashflow.index else 0,\n",
    "        'Capital Expenditure': ttm_cashflow.loc['Capital Expenditure'].iloc[0] if 'Capital Expenditure' in ttm_cashflow.index else 0,\n",
    "        'Change In Working Capital': ttm_cashflow.loc['Change In Working Capital'].iloc[0] if 'Change In Working Capital' in ttm_cashflow.index else 0,\n",
    "        'Tax Provision': ttm_income.loc['Tax Provision'].iloc[0] if 'Tax Provision' in ttm_income.index else np.nan,\n",
    "        'Pretax Income': ttm_income.loc['Pretax Income'].iloc[0] if 'Pretax Income' in ttm_income.index else np.nan,\n",
    "        'Net Income': ttm_income.loc['Net Income'].iloc[0] if 'Net Income' in ttm_income.index else np.nan\n",
    "    }\n",
    "    fcff_ttm = calculate_fcff(ttm_row)\n",
    "    print(f\"FCFF (TTM): {fcff_ttm:,.0f}\")\n",
    "else:\n",
    "    print(\"TTM data not available.\")"
   ]
  },
  {
   "cell_type": "code",
   "execution_count": 34,
   "id": "30f50cd8",
   "metadata": {},
   "outputs": [
    {
     "name": "stdout",
     "output_type": "stream",
     "text": [
      "FCFE (TTM): 292,807,916,361\n"
     ]
    }
   ],
   "source": [
    "# Calculate Free Cash Flow to Equity (FCFE)\n",
    "def calculate_fcfe(fcff, change_in_debt):\n",
    "    if pd.isna(change_in_debt):\n",
    "        change_in_debt = 0\n",
    "    return fcff + change_in_debt\n",
    "\n",
    "# Try to get TTM change in debt\n",
    "change_in_debt_ttm = None\n",
    "if quarterly_balance is not None and 'Total Debt' in quarterly_balance.index:\n",
    "    debt_series = quarterly_balance.loc['Total Debt']\n",
    "    debt_series = debt_series.dropna()\n",
    "    if len(debt_series) >= 5:\n",
    "        latest = debt_series.iloc[0]\n",
    "        prev_year = debt_series.iloc[4]\n",
    "        change_in_debt_ttm = latest - prev_year\n",
    "    else:\n",
    "        change_in_debt_ttm = np.nan\n",
    "else:\n",
    "    change_in_debt_ttm = np.nan\n",
    "\n",
    "fcfe_ttm = calculate_fcfe(fcff_ttm, change_in_debt_ttm)\n",
    "print(f\"FCFE (TTM): {fcfe_ttm:,.0f}\")"
   ]
  },
  {
   "cell_type": "code",
   "execution_count": 35,
   "id": "785da5cc",
   "metadata": {},
   "outputs": [
    {
     "name": "stdout",
     "output_type": "stream",
     "text": [
      "0.07297414213597408\n",
      "Projected FCFFs: [211063562178.58603, 221616740287.51535, 232697577301.8911, 244332456166.9857, 256549078975.335]\n",
      "Discount Factors: [0.9319889088932711, 0.86860332630007, 0.8095286663394683, 0.754471738459546, 0.7031592923177217]\n",
      "Present Values: [196708899021.94748, 192497037777.51456, 188375359413.62524, 184341932966.3965, 180394868817.05984]\n",
      "Total DCF Value (sum of PVs): 942,318,097,997\n"
     ]
    }
   ],
   "source": [
    "# Apply Growth Rate Projection to FCFF\n",
    "projected_fcff = []\n",
    "if fcff_ttm is not None and not pd.isna(fcff_ttm):\n",
    "    last_fcff = fcff_ttm\n",
    "    for year in range(1, projection_years + 1):\n",
    "        next_fcff = last_fcff * (1 + growth_rate)\n",
    "        projected_fcff.append(next_fcff)\n",
    "        last_fcff = next_fcff\n",
    "else:\n",
    "    print(\"Cannot project FCFF: TTM FCFF not available.\")\n",
    "\n",
    "# Discount projected FCFFs to present value\n",
    "discount_factors = [1 / ((1 + discount_rate) ** (i + 1)) for i in range(projection_years)]\n",
    "present_values = [fcff * df for fcff, df in zip(projected_fcff, discount_factors)]\n",
    "\n",
    "# Calculate total present value\n",
    "dcf_value = sum(present_values)\n",
    "\n",
    "print(discount_rate)\n",
    "print(\"Projected FCFFs:\", projected_fcff)\n",
    "print(\"Discount Factors:\", discount_factors)\n",
    "print(\"Present Values:\", present_values)\n",
    "print(f\"Total DCF Value (sum of PVs): {dcf_value:,.0f}\")"
   ]
  },
  {
   "cell_type": "code",
   "execution_count": 37,
   "id": "2933802a",
   "metadata": {},
   "outputs": [
    {
     "ename": "SyntaxError",
     "evalue": "invalid syntax (852548917.py, line 1)",
     "output_type": "error",
     "traceback": [
      "  \u001b[36mCell\u001b[39m\u001b[36m \u001b[39m\u001b[32mIn[37]\u001b[39m\u001b[32m, line 1\u001b[39m\n\u001b[31m    \u001b[39m\u001b[31m2025,211063562178.58603,0.05,196708899021.94748,0.9319889088932711,Projected calendar year\u001b[39m\n                                                                                 ^\n\u001b[31mSyntaxError\u001b[39m\u001b[31m:\u001b[39m invalid syntax\n"
     ]
    }
   ],
   "source": [
    "2025,211063562178.58603,0.05,196708899021.94748,0.9319889088932711,Projected calendar year\n",
    "2026,221616740287.51535,0.05,192497037777.51456,0.86860332630007,Projected calendar year\n",
    "2027,232697577301.8911,0.05,188375359413.62524,0.8095286663394683,Projected calendar year\n",
    "2028,244332456166.9857,0.05,184341932966.3965,0.754471738459546,Projected calendar year\n",
    "2029,256549078975.335,0.05,180394868817.05984,0.7031592923177217,Projected calendar year\n",
    ",4939769668816.176,0.02,3473444944537.3286,0.7031592923177217,Terminal value"
   ]
  },
  {
   "cell_type": "code",
   "execution_count": null,
   "id": "dfead399",
   "metadata": {},
   "outputs": [
    {
     "data": {
      "text/html": [
       "<div>\n",
       "<style scoped>\n",
       "    .dataframe tbody tr th:only-of-type {\n",
       "        vertical-align: middle;\n",
       "    }\n",
       "\n",
       "    .dataframe tbody tr th {\n",
       "        vertical-align: top;\n",
       "    }\n",
       "\n",
       "    .dataframe thead th {\n",
       "        text-align: right;\n",
       "    }\n",
       "</style>\n",
       "<table border=\"1\" class=\"dataframe\">\n",
       "  <thead>\n",
       "    <tr style=\"text-align: right;\">\n",
       "      <th></th>\n",
       "      <th>FCFF</th>\n",
       "      <th>FCFE</th>\n",
       "      <th>Present Value</th>\n",
       "    </tr>\n",
       "  </thead>\n",
       "  <tbody>\n",
       "    <tr>\n",
       "      <th>TTM</th>\n",
       "      <td>2.010129e+11</td>\n",
       "      <td>2.928079e+11</td>\n",
       "      <td>NaN</td>\n",
       "    </tr>\n",
       "    <tr>\n",
       "      <th>Year 1</th>\n",
       "      <td>2.110636e+11</td>\n",
       "      <td>NaN</td>\n",
       "      <td>1.972557e+11</td>\n",
       "    </tr>\n",
       "    <tr>\n",
       "      <th>Year 2</th>\n",
       "      <td>2.216167e+11</td>\n",
       "      <td>NaN</td>\n",
       "      <td>1.935686e+11</td>\n",
       "    </tr>\n",
       "    <tr>\n",
       "      <th>Year 3</th>\n",
       "      <td>2.326976e+11</td>\n",
       "      <td>NaN</td>\n",
       "      <td>1.899505e+11</td>\n",
       "    </tr>\n",
       "    <tr>\n",
       "      <th>Year 4</th>\n",
       "      <td>2.443325e+11</td>\n",
       "      <td>NaN</td>\n",
       "      <td>1.864001e+11</td>\n",
       "    </tr>\n",
       "    <tr>\n",
       "      <th>Year 5</th>\n",
       "      <td>2.565491e+11</td>\n",
       "      <td>NaN</td>\n",
       "      <td>1.829159e+11</td>\n",
       "    </tr>\n",
       "  </tbody>\n",
       "</table>\n",
       "</div>"
      ],
      "text/plain": [
       "                FCFF          FCFE  Present Value\n",
       "TTM     2.010129e+11  2.928079e+11            NaN\n",
       "Year 1  2.110636e+11           NaN   1.972557e+11\n",
       "Year 2  2.216167e+11           NaN   1.935686e+11\n",
       "Year 3  2.326976e+11           NaN   1.899505e+11\n",
       "Year 4  2.443325e+11           NaN   1.864001e+11\n",
       "Year 5  2.565491e+11           NaN   1.829159e+11"
      ]
     },
     "metadata": {},
     "output_type": "display_data"
    },
    {
     "data": {
      "image/png": "[encoded data removed]",
      "text/plain": [
       "<Figure size 800x400 with 1 Axes>"
      ]
     },
     "metadata": {},
     "output_type": "display_data"
    }
   ],
   "source": [
    "# Display Projected Cash Flows\n",
    "years = ['TTM'] + [f'Year {i}' for i in range(1, projection_years + 1)]\n",
    "fcff_list = [fcff_ttm] + projected_fcff\n",
    "fcfe_list = [fcfe_ttm] + [np.nan] * projection_years\n",
    "present_value_list = [np.nan] + present_values\n",
    "\n",
    "results_df = pd.DataFrame({\n",
    "    'FCFF': fcff_list,\n",
    "    'FCFE': fcfe_list,\n",
    "    'Present Value': present_value_list\n",
    "}, index=years)\n",
    "\n",
    "display(results_df)\n",
    "\n",
    "import matplotlib.pyplot as plt\n",
    "plt.figure(figsize=(8,4))\n",
    "plt.plot(results_df.index[1:], results_df['FCFF'][1:], marker='o', label='Projected FCFF')\n",
    "plt.title('Projected FCFF Over Time')\n",
    "plt.ylabel('FCFF')\n",
    "plt.xlabel('Year')\n",
    "plt.legend()\n",
    "plt.grid(True)\n",
    "plt.show()"
   ]
  },
  {
   "cell_type": "code",
   "execution_count": 50,
   "id": "e7a53f31",
   "metadata": {},
   "outputs": [
    {
     "name": "stdout",
     "output_type": "stream",
     "text": [
      "\n",
      "Terminal Value (at year 5): 4,939,769,668,816\n",
      "Present Value of Terminal Value: 3,473,444,944,537\n",
      "Enterprise Value (DCF + TV): 4,415,763,042,534\n",
      "Cash: nan | Debt: 102,787,000,000\n",
      "Equity Value: 4,335,397,042,534\n",
      "Shares Outstanding: 3,368,499,968\n",
      "Intrinsic Value per Share: 1,287.04\n"
     ]
    }
   ],
   "source": [
    "# Calculate Terminal Value, Add Cash, Subtract Debt, and Compute Intrinsic Value per Share\n",
    "\n",
    "# Terminal value using perpetuity growth model (Gordon Growth)\n",
    "terminal_growth_rate = 0.02  # You can adjust this as needed\n",
    "tv_year = projection_years\n",
    "last_projected_fcff = projected_fcff[-1] if projected_fcff else 0\n",
    "terminal_value = last_projected_fcff * (1 + terminal_growth_rate) / (discount_rate - terminal_growth_rate)\n",
    "terminal_value_pv = terminal_value / ((1 + discount_rate) ** tv_year)\n",
    "\n",
    "# Sum of present values of projected FCFFs + terminal value\n",
    "enterprise_value = dcf_value + terminal_value_pv\n",
    "\n",
    "# Get latest cash and debt from balance sheet\n",
    "total_cash = np.nan\n",
    "total_debt = np.nan\n",
    "shares_outstanding = np.nan\n",
    "try:\n",
    "    if balance is not None:\n",
    "        if 'Cash' in balance.index:\n",
    "            total_cash = balance.loc['Cash'].iloc[0]\n",
    "        if 'Total Debt' in balance.index:\n",
    "            total_debt = balance.loc['Total Debt'].iloc[0]\n",
    "    info = t.info\n",
    "    shares_outstanding = info.get('sharesOutstanding', np.nan)\n",
    "except Exception as e:\n",
    "    print('Error fetching cash, debt, or shares:', e)\n",
    "\n",
    "# Calculate equity value and intrinsic value per share\n",
    "equity_value = enterprise_value - balance.loc['Net Debt'].iloc[0] \n",
    "intrinsic_value_per_share = equity_value / shares_outstanding if shares_outstanding and not pd.isna(shares_outstanding) else np.nan\n",
    "\n",
    "print(f\"\\nTerminal Value (at year {tv_year}): {terminal_value:,.0f}\")\n",
    "print(f\"Present Value of Terminal Value: {terminal_value_pv:,.0f}\")\n",
    "print(f\"Enterprise Value (DCF + TV): {enterprise_value:,.0f}\")\n",
    "print(f\"Cash: {total_cash:,.0f} | Debt: {total_debt:,.0f}\")\n",
    "print(f\"Equity Value: {equity_value:,.0f}\")\n",
    "print(f\"Shares Outstanding: {shares_outstanding:,.0f}\")\n",
    "print(f\"Intrinsic Value per Share: {intrinsic_value_per_share:,.2f}\")"
   ]
  },
  {
   "cell_type": "code",
   "execution_count": null,
   "id": "d7a42640",
   "metadata": {},
   "outputs": [],
   "source": []
  },
  {
   "cell_type": "code",
   "execution_count": 39,
   "id": "ad2efb8e",
   "metadata": {},
   "outputs": [
    {
     "data": {
      "text/plain": [
       "4939769668816.176"
      ]
     },
     "execution_count": 39,
     "metadata": {},
     "output_type": "execute_result"
    }
   ],
   "source": [
    "last_projected_fcff * (1 + terminal_growth_rate) / (discount_rate - terminal_growth_rate)"
   ]
  },
  {
   "cell_type": "code",
   "execution_count": null,
   "id": "93142c71",
   "metadata": {},
   "outputs": [],
   "source": [
    "last_proj_fcf * (1 + terminal_growth) / (wacc - terminal_growth)\n",
    "np.float64(7784834882755.664)\n",
    "last_proj_fcf\n",
    "np.float64(404308774102.1448)\n",
    "terminal_growth\n",
    "0.02\n",
    "wacc\n",
    "np.float64(0.07297414213597408)"
   ]
  },
  {
   "cell_type": "code",
   "execution_count": 40,
   "id": "850a34b7",
   "metadata": {},
   "outputs": [
    {
     "data": {
      "text/plain": [
       "256549078975.335"
      ]
     },
     "execution_count": 40,
     "metadata": {},
     "output_type": "execute_result"
    }
   ],
   "source": [
    "last_projected_fcff"
   ]
  },
  {
   "cell_type": "code",
   "execution_count": null,
   "id": "850ba569",
   "metadata": {},
   "outputs": [],
   "source": [
    "terminal_val\n",
    "np.float64(4939769668816.176)"
   ]
  },
  {
   "cell_type": "code",
   "execution_count": null,
   "id": "e2dd6bee",
   "metadata": {},
   "outputs": [],
   "source": [
    "last_proj_fcf\n",
    "np.float64(256549078975.335)"
   ]
  },
  {
   "cell_type": "code",
   "execution_count": 52,
   "id": "51514ebe",
   "metadata": {},
   "outputs": [
    {
     "data": {
      "text/plain": [
       "3473444944537.3286"
      ]
     },
     "execution_count": 52,
     "metadata": {},
     "output_type": "execute_result"
    }
   ],
   "source": [
    "terminal_value / ((1 + discount_rate) ** tv_year)\n"
   ]
  },
  {
   "cell_type": "code",
   "execution_count": 45,
   "id": "601a0c14",
   "metadata": {},
   "outputs": [
    {
     "data": {
      "text/plain": [
       "0.7031592923177217"
      ]
     },
     "execution_count": 45,
     "metadata": {},
     "output_type": "execute_result"
    }
   ],
   "source": [
    "1/((1 + discount_rate) ** tv_year)"
   ]
  },
  {
   "cell_type": "code",
   "execution_count": 43,
   "id": "54dd62da",
   "metadata": {},
   "outputs": [
    {
     "data": {
      "text/plain": [
       "4622373421864.564"
      ]
     },
     "execution_count": 43,
     "metadata": {},
     "output_type": "execute_result"
    }
   ],
   "source": [
    "\n",
    "# Sum of present values of projected FCFFs + terminal value\n",
    "dcf_value + terminal_value_pv"
   ]
  },
  {
   "cell_type": "code",
   "execution_count": 51,
   "id": "e8f750d7",
   "metadata": {},
   "outputs": [
    {
     "data": {
      "text/plain": [
       "4939769668816.176"
      ]
     },
     "execution_count": 51,
     "metadata": {},
     "output_type": "execute_result"
    }
   ],
   "source": [
    "terminal_value"
   ]
  },
  {
   "cell_type": "code",
   "execution_count": 48,
   "id": "bfeffa36",
   "metadata": {},
   "outputs": [
    {
     "data": {
      "text/plain": [
       "4939769668816.176"
      ]
     },
     "execution_count": 48,
     "metadata": {},
     "output_type": "execute_result"
    }
   ],
   "source": [
    "last_projected_fcff * (1 + terminal_growth_rate) / (discount_rate - terminal_growth_rate)"
   ]
  },
  {
   "cell_type": "code",
   "execution_count": 53,
   "id": "7ff1ccbd",
   "metadata": {},
   "outputs": [
    {
     "data": {
      "text/plain": [
       "942318097996.5437"
      ]
     },
     "execution_count": 53,
     "metadata": {},
     "output_type": "execute_result"
    }
   ],
   "source": [
    "dcf_value"
   ]
  },
  {
   "cell_type": "code",
   "execution_count": 54,
   "id": "8d6c92ca",
   "metadata": {},
   "outputs": [
    {
     "data": {
      "text/plain": [
       "[196708899021.94748,\n",
       " 192497037777.51456,\n",
       " 188375359413.62524,\n",
       " 184341932966.3965,\n",
       " 180394868817.05984]"
      ]
     },
     "execution_count": 54,
     "metadata": {},
     "output_type": "execute_result"
    }
   ],
   "source": [
    "present_values"
   ]
  },
  {
   "cell_type": "code",
   "execution_count": null,
   "id": "d3905c22",
   "metadata": {},
   "outputs": [],
   "source": [
    "terminal_discount_factor\n",
    "np.float64(0.7031592923177217)\n",
    "terminal_val\n",
    "np.float64(4939769668816.176)\n",
    "terminal_val * terminal_discount_factor\n",
    "np.float64(3473444944537.3286)"
   ]
  },
  {
   "cell_type": "code",
   "execution_count": null,
   "id": "09276be8",
   "metadata": {},
   "outputs": [],
   "source": [
    "pv_vals\n",
    "0    2.154431e+11\n",
    "1    2.309091e+11\n",
    "2    2.474855e+11\n",
    "3    2.652518e+11\n",
    "4    2.842935e+11\n",
    "Name: FCFF, dtype: float64\n",
    "pv_vals.sum()\n",
    "np.float64(1243382950064.148)"
   ]
  },
  {
   "cell_type": "code",
   "execution_count": null,
   "id": "8aa4a208",
   "metadata": {},
   "outputs": [],
   "source": [
    "{\n",
    "  \"enterprise_value\": 942318097996.5436,\n",
    "  \"sum_pv\": 942318097996.5436,\n",
    "  \"terminal_value\": 4939769668816.176,\n",
    "  \"npv\": 942318097996.5436,\n",
    "  \"net_debt\": 79785000000.0,\n",
    "  \"equity_value\": 862533097996.5436,\n",
    "  \"per_share_value\": 256.0585145288455,\n",
    "  \"upside\": -42.00260146572016,\n",
    "  \"average_growth_rate\": 0.050000000000000044\n",
    "}"
   ]
  },
  {
   "cell_type": "code",
   "execution_count": null,
   "id": "7f66b73f",
   "metadata": {},
   "outputs": [
    {
     "data": {
      "text/html": [
       "<div>\n",
       "<style scoped>\n",
       "    .dataframe tbody tr th:only-of-type {\n",
       "        vertical-align: middle;\n",
       "    }\n",
       "\n",
       "    .dataframe tbody tr th {\n",
       "        vertical-align: top;\n",
       "    }\n",
       "\n",
       "    .dataframe thead th {\n",
       "        text-align: right;\n",
       "    }\n",
       "</style>\n",
       "<table border=\"1\" class=\"dataframe\">\n",
       "  <thead>\n",
       "    <tr style=\"text-align: right;\">\n",
       "      <th></th>\n",
       "      <th>2024-12-31</th>\n",
       "      <th>2023-12-31</th>\n",
       "      <th>2022-12-31</th>\n",
       "      <th>2021-12-31</th>\n",
       "      <th>2020-12-31</th>\n",
       "    </tr>\n",
       "  </thead>\n",
       "  <tbody>\n",
       "    <tr>\n",
       "      <th>Net Debt</th>\n",
       "      <td>80366000000.0</td>\n",
       "      <td>6888000000.0</td>\n",
       "      <td>8602000000.0</td>\n",
       "      <td>11796000000.0</td>\n",
       "      <td>NaN</td>\n",
       "    </tr>\n",
       "    <tr>\n",
       "      <th>Total Debt</th>\n",
       "      <td>102787000000.0</td>\n",
       "      <td>27006000000.0</td>\n",
       "      <td>25784000000.0</td>\n",
       "      <td>26645000000.0</td>\n",
       "      <td>NaN</td>\n",
       "    </tr>\n",
       "    <tr>\n",
       "      <th>Cash And Cash Equivalents</th>\n",
       "      <td>15655000000.0</td>\n",
       "      <td>14392000000.0</td>\n",
       "      <td>12653000000.0</td>\n",
       "      <td>10720000000.0</td>\n",
       "      <td>NaN</td>\n",
       "    </tr>\n",
       "    <tr>\n",
       "      <th>Cash Financial</th>\n",
       "      <td>15655000000.0</td>\n",
       "      <td>14392000000.0</td>\n",
       "      <td>12653000000.0</td>\n",
       "      <td>10720000000.0</td>\n",
       "      <td>NaN</td>\n",
       "    </tr>\n",
       "  </tbody>\n",
       "</table>\n",
       "</div>"
      ],
      "text/plain": [
       "                               2024-12-31     2023-12-31     2022-12-31  \\\n",
       "Net Debt                    80366000000.0   6888000000.0   8602000000.0   \n",
       "Total Debt                 102787000000.0  27006000000.0  25784000000.0   \n",
       "Cash And Cash Equivalents   15655000000.0  14392000000.0  12653000000.0   \n",
       "Cash Financial              15655000000.0  14392000000.0  12653000000.0   \n",
       "\n",
       "                              2021-12-31 2020-12-31  \n",
       "Net Debt                   11796000000.0        NaN  \n",
       "Total Debt                 26645000000.0        NaN  \n",
       "Cash And Cash Equivalents  10720000000.0        NaN  \n",
       "Cash Financial             10720000000.0        NaN  "
      ]
     },
     "execution_count": 18,
     "metadata": {},
     "output_type": "execute_result"
    }
   ],
   "source": [
    "balance.loc[['Net Debt', 'Total Debt', 'Cash And Cash Equivalents', 'Cash Financial']]"
   ]
  },
  {
   "cell_type": "code",
   "execution_count": null,
   "id": "277748ce",
   "metadata": {},
   "outputs": [
    {
     "data": {
      "text/plain": [
       "87132000000.0"
      ]
     },
     "execution_count": 16,
     "metadata": {},
     "output_type": "execute_result"
    }
   ],
   "source": [
    "102787000000.0-15655000000.0"
   ]
  },
  {
   "cell_type": "code",
   "execution_count": null,
   "id": "e3f10a60",
   "metadata": {},
   "outputs": [
    {
     "data": {
      "text/plain": [
       "Index(['Treasury Shares Number', 'Ordinary Shares Number', 'Share Issued',\n",
       "       'Net Debt', 'Total Debt', 'Tangible Book Value', 'Invested Capital',\n",
       "       'Working Capital', 'Net Tangible Assets', 'Capital Lease Obligations',\n",
       "       'Common Stock Equity', 'Total Capitalization',\n",
       "       'Total Equity Gross Minority Interest', 'Stockholders Equity',\n",
       "       'Gains Losses Not Affecting Retained Earnings',\n",
       "       'Other Equity Adjustments', 'Treasury Stock', 'Retained Earnings',\n",
       "       'Capital Stock', 'Common Stock',\n",
       "       'Total Liabilities Net Minority Interest',\n",
       "       'Total Non Current Liabilities Net Minority Interest',\n",
       "       'Other Non Current Liabilities', 'Employee Benefits',\n",
       "       'Non Current Pension And Other Postretirement Benefit Plans',\n",
       "       'Non Current Deferred Liabilities',\n",
       "       'Non Current Deferred Taxes Liabilities',\n",
       "       'Long Term Debt And Capital Lease Obligation',\n",
       "       'Long Term Capital Lease Obligation', 'Long Term Debt',\n",
       "       'Long Term Provisions', 'Current Liabilities',\n",
       "       'Other Current Liabilities',\n",
       "       'Current Debt And Capital Lease Obligation',\n",
       "       'Current Capital Lease Obligation', 'Current Debt',\n",
       "       'Other Current Borrowings', 'Line Of Credit', 'Commercial Paper',\n",
       "       'Current Notes Payable', 'Current Provisions',\n",
       "       'Payables And Accrued Expenses', 'Payables', 'Total Tax Payable',\n",
       "       'Accounts Payable', 'Total Assets', 'Total Non Current Assets',\n",
       "       'Non Current Deferred Assets', 'Non Current Deferred Taxes Assets',\n",
       "       'Non Current Accounts Receivable', 'Investments And Advances',\n",
       "       'Investmentin Financial Assets', 'Available For Sale Securities',\n",
       "       'Long Term Equity Investment', 'Investmentsin Associatesat Cost',\n",
       "       'Goodwill And Other Intangible Assets', 'Other Intangible Assets',\n",
       "       'Goodwill', 'Net PPE', 'Accumulated Depreciation', 'Gross PPE',\n",
       "       'Construction In Progress', 'Other Properties',\n",
       "       'Machinery Furniture Equipment', 'Properties', 'Current Assets',\n",
       "       'Hedging Assets Current', 'Inventory',\n",
       "       'Inventories Adjustments Allowances', 'Finished Goods',\n",
       "       'Work In Process', 'Raw Materials', 'Receivables', 'Other Receivables',\n",
       "       'Taxes Receivable', 'Accounts Receivable',\n",
       "       'Allowance For Doubtful Accounts Receivable',\n",
       "       'Gross Accounts Receivable',\n",
       "       'Cash Cash Equivalents And Short Term Investments',\n",
       "       'Other Short Term Investments', 'Cash And Cash Equivalents',\n",
       "       'Cash Financial'],\n",
       "      dtype='object')"
      ]
     },
     "execution_count": 12,
     "metadata": {},
     "output_type": "execute_result"
    }
   ],
   "source": [
    "balance.index"
   ]
  }
 ],
 "metadata": {
  "kernelspec": {
   "display_name": "Python 3",
   "language": "python",
   "name": "python3"
  },
  "language_info": {
   "codemirror_mode": {
    "name": "ipython",
    "version": 3
   },
   "file_extension": ".py",
   "mimetype": "text/x-python",
   "name": "python",
   "nbconvert_exporter": "python",
   "pygments_lexer": "ipython3",
   "version": "3.13.5"
  }
 },
 "nbformat": 4,
 "nbformat_minor": 5
}
